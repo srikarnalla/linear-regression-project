{
 "cells": [
  {
   "cell_type": "code",
   "execution_count": 2,
   "id": "85370a01-b58e-49ef-a7c4-107a4f83b56c",
   "metadata": {},
   "outputs": [],
   "source": [
    "import copy, math\n",
    "import numpy as np\n",
    "import matplotlib.pyplot as plt\n",
    "np.set_printoptions(precision=2)"
   ]
  },
  {
   "cell_type": "code",
   "execution_count": 3,
   "id": "d79cac45-0426-4d42-9f90-09e1c85c9b4c",
   "metadata": {},
   "outputs": [],
   "source": [
    "X_train = np.array([[2104, 5, 1, 45], [1416, 3, 2, 40], [852, 2, 1, 35]])  #size of houses(sqft),#rooms,#floors,#age(years)\n",
    "y_train = np.array([460, 232, 178])    #cost of the house"
   ]
  },
  {
   "cell_type": "code",
   "execution_count": 4,
   "id": "3b3e9c02-f8b3-46e0-bc46-9d72ac2f1bfe",
   "metadata": {},
   "outputs": [],
   "source": [
    "def z_score(x):\n",
    "    x_std = np.std(x,axis=0)\n",
    "    x_mean = np.mean(x,axis=0)\n",
    "    x_norm = (x - x_mean)/x_std\n",
    "    return x_norm\n",
    "\n",
    "X_norm = z_score(X_train)\n",
    "y_norm = z_score(y_train)"
   ]
  },
  {
   "cell_type": "code",
   "execution_count": 5,
   "id": "4e68f9dd-dd9b-4940-8bdd-1f5ee70f8b6b",
   "metadata": {},
   "outputs": [],
   "source": [
    "w_init = [0,0,0,0]\n",
    "b_init = 0\n",
    "def compute_cost(X, y, w, b): \n",
    "    m = X.shape[0]\n",
    "    cost = 0.0\n",
    "    for i in range(m):                                \n",
    "        f_wb_i = np.dot(X[i], w) + b          \n",
    "        cost = cost + (f_wb_i - y[i])**2      \n",
    "    cost = cost / (2 * m)\n",
    "    return cost"
   ]
  },
  {
   "cell_type": "code",
   "execution_count": 6,
   "id": "36b6ca2b-3acf-4904-bb49-27a590a06e19",
   "metadata": {},
   "outputs": [],
   "source": [
    "def compute_gradient(X, y, w, b): \n",
    "\n",
    "    m,n = X.shape \n",
    "    dj_dw = np.zeros((n,))\n",
    "    dj_db = 0.\n",
    "\n",
    "    for i in range(m):                             \n",
    "        err = (np.dot(X[i], w) + b) - y[i]   \n",
    "        for j in range(n):                         \n",
    "            dj_dw[j] = dj_dw[j] + err * X[i, j]    \n",
    "        dj_db = dj_db + err                        \n",
    "    dj_dw = dj_dw / m                                \n",
    "    dj_db = dj_db / m                                \n",
    "        \n",
    "    return dj_db, dj_dw\n",
    "tmp_dj_db, tmp_dj_dw = compute_gradient(X_train, y_train, w_init, b_init)\n"
   ]
  },
  {
   "cell_type": "code",
   "execution_count": 7,
   "id": "f6a69f9b-248b-45c4-b62c-b98f333592c9",
   "metadata": {},
   "outputs": [],
   "source": [
    "def gradient_descent(X, y, w_in, b_in, cost_function, gradient_function, alpha, num_iters): \n",
    "    \n",
    "    # An array to store cost J and w's at each iteration primarily for graphing later\n",
    "    w = copy.deepcopy(w_in)  #avoid modifying global w within function\n",
    "    b = b_in\n",
    "    \n",
    "    for i in range(num_iters):\n",
    "\n",
    "        # Calculate the gradient and update the parameters\n",
    "        dj_db,dj_dw = gradient_function(X, y, w, b)   ##None\n",
    "\n",
    "        # Update Parameters using w, b, alpha and gradient\n",
    "        w = w - alpha * dj_dw\n",
    "        b = b - alpha * dj_db              \n",
    "      \n",
    "    return w, b#return final w,b and J history for graphing"
   ]
  },
  {
   "cell_type": "code",
   "execution_count": 19,
   "id": "e3d6dabc-0af7-42e0-b970-39f1e140272d",
   "metadata": {},
   "outputs": [
    {
     "name": "stdout",
     "output_type": "stream",
     "text": [
      "[ 0.2   0.   -0.01 -0.07] -0.002235407530932535\n",
      "286.1674720078562\n"
     ]
    }
   ],
   "source": [
    "iterations = 1000\n",
    "alpha = 5.0e-7\n",
    "m = X_train.shape[0]\n",
    "w_final, b_final = gradient_descent(X_train, y_train, w_init, b_init,\n",
    "                                                    compute_cost, compute_gradient, \n",
    "                                                    alpha, iterations)\n",
    "print(w_final,b_final)\n",
    "x_predict = [1416, 3, 2, 40]\n",
    "y_predict = np.dot(x_predict,w_final) + b_final\n",
    "print(y_predict)"
   ]
  },
  {
   "cell_type": "code",
   "execution_count": null,
   "id": "3e11a718-f5b1-4c91-9277-df2ebd0b1bf0",
   "metadata": {},
   "outputs": [],
   "source": [
    "\n"
   ]
  }
 ],
 "metadata": {
  "kernelspec": {
   "display_name": "Python 3 (ipykernel)",
   "language": "python",
   "name": "python3"
  },
  "language_info": {
   "codemirror_mode": {
    "name": "ipython",
    "version": 3
   },
   "file_extension": ".py",
   "mimetype": "text/x-python",
   "name": "python",
   "nbconvert_exporter": "python",
   "pygments_lexer": "ipython3",
   "version": "3.12.3"
  }
 },
 "nbformat": 4,
 "nbformat_minor": 5
}
